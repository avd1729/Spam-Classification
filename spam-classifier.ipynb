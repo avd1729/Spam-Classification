{
 "cells": [
  {
   "cell_type": "markdown",
   "id": "347c02bb",
   "metadata": {
    "papermill": {
     "duration": 0.009942,
     "end_time": "2023-08-26T08:46:47.353664",
     "exception": false,
     "start_time": "2023-08-26T08:46:47.343722",
     "status": "completed"
    },
    "tags": []
   },
   "source": [
    "# **Setting up the environment**"
   ]
  },
  {
   "cell_type": "code",
   "execution_count": 1,
   "id": "fe5550d8",
   "metadata": {
    "execution": {
     "iopub.execute_input": "2023-08-26T08:46:47.373963Z",
     "iopub.status.busy": "2023-08-26T08:46:47.373496Z",
     "iopub.status.idle": "2023-08-26T08:46:47.384454Z",
     "shell.execute_reply": "2023-08-26T08:46:47.382983Z"
    },
    "papermill": {
     "duration": 0.024043,
     "end_time": "2023-08-26T08:46:47.387256",
     "exception": false,
     "start_time": "2023-08-26T08:46:47.363213",
     "status": "completed"
    },
    "tags": []
   },
   "outputs": [],
   "source": [
    "import warnings\n",
    "warnings.filterwarnings('ignore')"
   ]
  },
  {
   "cell_type": "code",
   "execution_count": 2,
   "id": "6060e107",
   "metadata": {
    "execution": {
     "iopub.execute_input": "2023-08-26T08:46:47.408322Z",
     "iopub.status.busy": "2023-08-26T08:46:47.407948Z",
     "iopub.status.idle": "2023-08-26T08:46:57.227575Z",
     "shell.execute_reply": "2023-08-26T08:46:57.225601Z"
    },
    "papermill": {
     "duration": 9.833953,
     "end_time": "2023-08-26T08:46:57.230205",
     "exception": false,
     "start_time": "2023-08-26T08:46:47.396252",
     "status": "completed"
    },
    "tags": []
   },
   "outputs": [],
   "source": [
    "import numpy as np\n",
    "import pandas as pd\n",
    "import tensorflow as tf"
   ]
  },
  {
   "cell_type": "markdown",
   "id": "14584040",
   "metadata": {
    "papermill": {
     "duration": 0.008261,
     "end_time": "2023-08-26T08:46:57.247357",
     "exception": false,
     "start_time": "2023-08-26T08:46:57.239096",
     "status": "completed"
    },
    "tags": []
   },
   "source": [
    "# **Data loading**"
   ]
  },
  {
   "cell_type": "code",
   "execution_count": 3,
   "id": "bce67244",
   "metadata": {
    "execution": {
     "iopub.execute_input": "2023-08-26T08:46:57.266833Z",
     "iopub.status.busy": "2023-08-26T08:46:57.266107Z",
     "iopub.status.idle": "2023-08-26T08:46:57.271461Z",
     "shell.execute_reply": "2023-08-26T08:46:57.270227Z"
    },
    "papermill": {
     "duration": 0.017703,
     "end_time": "2023-08-26T08:46:57.273891",
     "exception": false,
     "start_time": "2023-08-26T08:46:57.256188",
     "status": "completed"
    },
    "tags": []
   },
   "outputs": [],
   "source": [
    "import os\n",
    "ham_path = \"/kaggle/input/spam-ham/enron2/ham/\""
   ]
  },
  {
   "cell_type": "code",
   "execution_count": 4,
   "id": "ba281afd",
   "metadata": {
    "execution": {
     "iopub.execute_input": "2023-08-26T08:46:57.293797Z",
     "iopub.status.busy": "2023-08-26T08:46:57.292822Z",
     "iopub.status.idle": "2023-08-26T08:46:57.298350Z",
     "shell.execute_reply": "2023-08-26T08:46:57.296797Z"
    },
    "papermill": {
     "duration": 0.018242,
     "end_time": "2023-08-26T08:46:57.301019",
     "exception": false,
     "start_time": "2023-08-26T08:46:57.282777",
     "status": "completed"
    },
    "tags": []
   },
   "outputs": [],
   "source": [
    "ham = []"
   ]
  },
  {
   "cell_type": "code",
   "execution_count": 5,
   "id": "378c92aa",
   "metadata": {
    "execution": {
     "iopub.execute_input": "2023-08-26T08:46:57.320518Z",
     "iopub.status.busy": "2023-08-26T08:46:57.320147Z",
     "iopub.status.idle": "2023-08-26T08:47:15.590364Z",
     "shell.execute_reply": "2023-08-26T08:47:15.589262Z"
    },
    "papermill": {
     "duration": 18.282935,
     "end_time": "2023-08-26T08:47:15.592924",
     "exception": false,
     "start_time": "2023-08-26T08:46:57.309989",
     "status": "completed"
    },
    "tags": []
   },
   "outputs": [
    {
     "name": "stdout",
     "output_type": "stream",
     "text": [
      "UnicodeDecodeError in /kaggle/input/spam-ham/enron2/ham/5392.2001-04-23.kaminski.ham.txt. Skipping this file.\n"
     ]
    }
   ],
   "source": [
    "for filename in os.listdir(ham_path):\n",
    "    if filename.endswith(\".txt\"):\n",
    "        file_path = os.path.join(ham_path, filename)\n",
    "        with open(file_path, \"r\", encoding=\"utf-8\") as file:\n",
    "            try:\n",
    "                content = file.read()\n",
    "                ham.append(content)\n",
    "            except UnicodeDecodeError:\n",
    "                print(f\"UnicodeDecodeError in {file_path}. Skipping this file.\")"
   ]
  },
  {
   "cell_type": "code",
   "execution_count": 6,
   "id": "fc7e9698",
   "metadata": {
    "execution": {
     "iopub.execute_input": "2023-08-26T08:47:15.613703Z",
     "iopub.status.busy": "2023-08-26T08:47:15.613327Z",
     "iopub.status.idle": "2023-08-26T08:47:15.624905Z",
     "shell.execute_reply": "2023-08-26T08:47:15.623843Z"
    },
    "papermill": {
     "duration": 0.025273,
     "end_time": "2023-08-26T08:47:15.627322",
     "exception": false,
     "start_time": "2023-08-26T08:47:15.602049",
     "status": "completed"
    },
    "tags": []
   },
   "outputs": [],
   "source": [
    "df_ham = pd.DataFrame(ham, columns=[\"email\"])"
   ]
  },
  {
   "cell_type": "code",
   "execution_count": 7,
   "id": "2b200693",
   "metadata": {
    "execution": {
     "iopub.execute_input": "2023-08-26T08:47:15.647228Z",
     "iopub.status.busy": "2023-08-26T08:47:15.646400Z",
     "iopub.status.idle": "2023-08-26T08:47:15.666497Z",
     "shell.execute_reply": "2023-08-26T08:47:15.665274Z"
    },
    "papermill": {
     "duration": 0.031711,
     "end_time": "2023-08-26T08:47:15.668388",
     "exception": false,
     "start_time": "2023-08-26T08:47:15.636677",
     "status": "completed"
    },
    "tags": []
   },
   "outputs": [
    {
     "data": {
      "text/html": [
       "<div>\n",
       "<style scoped>\n",
       "    .dataframe tbody tr th:only-of-type {\n",
       "        vertical-align: middle;\n",
       "    }\n",
       "\n",
       "    .dataframe tbody tr th {\n",
       "        vertical-align: top;\n",
       "    }\n",
       "\n",
       "    .dataframe thead th {\n",
       "        text-align: right;\n",
       "    }\n",
       "</style>\n",
       "<table border=\"1\" class=\"dataframe\">\n",
       "  <thead>\n",
       "    <tr style=\"text-align: right;\">\n",
       "      <th></th>\n",
       "      <th>email</th>\n",
       "    </tr>\n",
       "  </thead>\n",
       "  <tbody>\n",
       "    <tr>\n",
       "      <th>0</th>\n",
       "      <td>Subject: var for cob 2 nd aug 2000\\nhi vince ,...</td>\n",
       "    </tr>\n",
       "    <tr>\n",
       "      <th>1</th>\n",
       "      <td>Subject: my resume\\nmolly ,\\nwe would like to ...</td>\n",
       "    </tr>\n",
       "    <tr>\n",
       "      <th>2</th>\n",
       "      <td>Subject: enron trial of energycast service\\nmi...</td>\n",
       "    </tr>\n",
       "    <tr>\n",
       "      <th>3</th>\n",
       "      <td>Subject: iafe membership\\ndear colleague :\\nwe...</td>\n",
       "    </tr>\n",
       "    <tr>\n",
       "      <th>4</th>\n",
       "      <td>Subject: intranet site\\ndear dale / all ,\\ntha...</td>\n",
       "    </tr>\n",
       "    <tr>\n",
       "      <th>...</th>\n",
       "      <td>...</td>\n",
       "    </tr>\n",
       "    <tr>\n",
       "      <th>4355</th>\n",
       "      <td>Subject: alp presentation\\non behalf of enron ...</td>\n",
       "    </tr>\n",
       "    <tr>\n",
       "      <th>4356</th>\n",
       "      <td>Subject: re : uk : reconciling the spreadsheet...</td>\n",
       "    </tr>\n",
       "    <tr>\n",
       "      <th>4357</th>\n",
       "      <td>Subject: refined products line - - north ameri...</td>\n",
       "    </tr>\n",
       "    <tr>\n",
       "      <th>4358</th>\n",
       "      <td>Subject: re : ken lay ' s speech\\nthe $ 460 bi...</td>\n",
       "    </tr>\n",
       "    <tr>\n",
       "      <th>4359</th>\n",
       "      <td>Subject: re : statistician from rice\\nosman ,\\...</td>\n",
       "    </tr>\n",
       "  </tbody>\n",
       "</table>\n",
       "<p>4360 rows × 1 columns</p>\n",
       "</div>"
      ],
      "text/plain": [
       "                                                  email\n",
       "0     Subject: var for cob 2 nd aug 2000\\nhi vince ,...\n",
       "1     Subject: my resume\\nmolly ,\\nwe would like to ...\n",
       "2     Subject: enron trial of energycast service\\nmi...\n",
       "3     Subject: iafe membership\\ndear colleague :\\nwe...\n",
       "4     Subject: intranet site\\ndear dale / all ,\\ntha...\n",
       "...                                                 ...\n",
       "4355  Subject: alp presentation\\non behalf of enron ...\n",
       "4356  Subject: re : uk : reconciling the spreadsheet...\n",
       "4357  Subject: refined products line - - north ameri...\n",
       "4358  Subject: re : ken lay ' s speech\\nthe $ 460 bi...\n",
       "4359  Subject: re : statistician from rice\\nosman ,\\...\n",
       "\n",
       "[4360 rows x 1 columns]"
      ]
     },
     "execution_count": 7,
     "metadata": {},
     "output_type": "execute_result"
    }
   ],
   "source": [
    "df_ham"
   ]
  },
  {
   "cell_type": "code",
   "execution_count": 8,
   "id": "741820fe",
   "metadata": {
    "execution": {
     "iopub.execute_input": "2023-08-26T08:47:15.687413Z",
     "iopub.status.busy": "2023-08-26T08:47:15.687033Z",
     "iopub.status.idle": "2023-08-26T08:47:15.692724Z",
     "shell.execute_reply": "2023-08-26T08:47:15.691167Z"
    },
    "papermill": {
     "duration": 0.017455,
     "end_time": "2023-08-26T08:47:15.694666",
     "exception": false,
     "start_time": "2023-08-26T08:47:15.677211",
     "status": "completed"
    },
    "tags": []
   },
   "outputs": [],
   "source": [
    "spam_path = '/kaggle/input/spam-ham/enron2/spam/'\n",
    "spam = []"
   ]
  },
  {
   "cell_type": "code",
   "execution_count": 9,
   "id": "8c1eb64a",
   "metadata": {
    "execution": {
     "iopub.execute_input": "2023-08-26T08:47:15.714610Z",
     "iopub.status.busy": "2023-08-26T08:47:15.714258Z",
     "iopub.status.idle": "2023-08-26T08:47:20.897158Z",
     "shell.execute_reply": "2023-08-26T08:47:20.896187Z"
    },
    "papermill": {
     "duration": 5.195138,
     "end_time": "2023-08-26T08:47:20.899135",
     "exception": false,
     "start_time": "2023-08-26T08:47:15.703997",
     "status": "completed"
    },
    "tags": []
   },
   "outputs": [
    {
     "name": "stdout",
     "output_type": "stream",
     "text": [
      "UnicodeDecodeError in /kaggle/input/spam-ham/enron2/spam/3075.2005-06-29.SA_and_HP.spam.txt. Skipping this file.\n",
      "UnicodeDecodeError in /kaggle/input/spam-ham/enron2/spam/1239.2002-08-26.SA_and_HP.spam.txt. Skipping this file.\n",
      "UnicodeDecodeError in /kaggle/input/spam-ham/enron2/spam/1321.2002-08-31.SA_and_HP.spam.txt. Skipping this file.\n",
      "UnicodeDecodeError in /kaggle/input/spam-ham/enron2/spam/2467.2005-06-25.SA_and_HP.spam.txt. Skipping this file.\n",
      "UnicodeDecodeError in /kaggle/input/spam-ham/enron2/spam/5507.2005-07-20.SA_and_HP.spam.txt. Skipping this file.\n",
      "UnicodeDecodeError in /kaggle/input/spam-ham/enron2/spam/3363.2005-07-01.SA_and_HP.spam.txt. Skipping this file.\n",
      "UnicodeDecodeError in /kaggle/input/spam-ham/enron2/spam/5737.2005-07-21.SA_and_HP.spam.txt. Skipping this file.\n",
      "UnicodeDecodeError in /kaggle/input/spam-ham/enron2/spam/4961.2005-07-18.SA_and_HP.spam.txt. Skipping this file.\n",
      "UnicodeDecodeError in /kaggle/input/spam-ham/enron2/spam/3100.2005-06-29.SA_and_HP.spam.txt. Skipping this file.\n",
      "UnicodeDecodeError in /kaggle/input/spam-ham/enron2/spam/0460.2002-06-05.SA_and_HP.spam.txt. Skipping this file.\n",
      "UnicodeDecodeError in /kaggle/input/spam-ham/enron2/spam/1271.2002-08-27.SA_and_HP.spam.txt. Skipping this file.\n",
      "UnicodeDecodeError in /kaggle/input/spam-ham/enron2/spam/1627.2005-03-23.SA_and_HP.spam.txt. Skipping this file.\n",
      "UnicodeDecodeError in /kaggle/input/spam-ham/enron2/spam/2136.2005-06-23.SA_and_HP.spam.txt. Skipping this file.\n",
      "UnicodeDecodeError in /kaggle/input/spam-ham/enron2/spam/0929.2002-07-25.SA_and_HP.spam.txt. Skipping this file.\n",
      "UnicodeDecodeError in /kaggle/input/spam-ham/enron2/spam/4592.2005-07-14.SA_and_HP.spam.txt. Skipping this file.\n",
      "UnicodeDecodeError in /kaggle/input/spam-ham/enron2/spam/0138.2002-05-06.SA_and_HP.spam.txt. Skipping this file.\n",
      "UnicodeDecodeError in /kaggle/input/spam-ham/enron2/spam/0011.2001-06-28.SA_and_HP.spam.txt. Skipping this file.\n",
      "UnicodeDecodeError in /kaggle/input/spam-ham/enron2/spam/2610.2005-06-26.SA_and_HP.spam.txt. Skipping this file.\n",
      "UnicodeDecodeError in /kaggle/input/spam-ham/enron2/spam/3606.2005-07-02.SA_and_HP.spam.txt. Skipping this file.\n",
      "UnicodeDecodeError in /kaggle/input/spam-ham/enron2/spam/4597.2005-07-14.SA_and_HP.spam.txt. Skipping this file.\n",
      "UnicodeDecodeError in /kaggle/input/spam-ham/enron2/spam/2961.2005-06-28.SA_and_HP.spam.txt. Skipping this file.\n",
      "UnicodeDecodeError in /kaggle/input/spam-ham/enron2/spam/1374.2002-09-10.SA_and_HP.spam.txt. Skipping this file.\n",
      "UnicodeDecodeError in /kaggle/input/spam-ham/enron2/spam/3039.2005-06-29.SA_and_HP.spam.txt. Skipping this file.\n",
      "UnicodeDecodeError in /kaggle/input/spam-ham/enron2/spam/1020.2002-07-29.SA_and_HP.spam.txt. Skipping this file.\n",
      "UnicodeDecodeError in /kaggle/input/spam-ham/enron2/spam/1480.2002-09-18.SA_and_HP.spam.txt. Skipping this file.\n",
      "UnicodeDecodeError in /kaggle/input/spam-ham/enron2/spam/1606.2004-06-30.SA_and_HP.spam.txt. Skipping this file.\n",
      "UnicodeDecodeError in /kaggle/input/spam-ham/enron2/spam/5600.2005-07-20.SA_and_HP.spam.txt. Skipping this file.\n",
      "UnicodeDecodeError in /kaggle/input/spam-ham/enron2/spam/5307.2005-07-19.SA_and_HP.spam.txt. Skipping this file.\n",
      "UnicodeDecodeError in /kaggle/input/spam-ham/enron2/spam/3473.2005-07-01.SA_and_HP.spam.txt. Skipping this file.\n",
      "UnicodeDecodeError in /kaggle/input/spam-ham/enron2/spam/0002.2001-05-25.SA_and_HP.spam.txt. Skipping this file.\n",
      "UnicodeDecodeError in /kaggle/input/spam-ham/enron2/spam/5611.2005-07-20.SA_and_HP.spam.txt. Skipping this file.\n",
      "UnicodeDecodeError in /kaggle/input/spam-ham/enron2/spam/4186.2005-07-06.SA_and_HP.spam.txt. Skipping this file.\n",
      "UnicodeDecodeError in /kaggle/input/spam-ham/enron2/spam/3227.2005-06-30.SA_and_HP.spam.txt. Skipping this file.\n",
      "UnicodeDecodeError in /kaggle/input/spam-ham/enron2/spam/1765.2005-06-21.SA_and_HP.spam.txt. Skipping this file.\n",
      "UnicodeDecodeError in /kaggle/input/spam-ham/enron2/spam/4849.2005-07-16.SA_and_HP.spam.txt. Skipping this file.\n",
      "UnicodeDecodeError in /kaggle/input/spam-ham/enron2/spam/5518.2005-07-20.SA_and_HP.spam.txt. Skipping this file.\n",
      "UnicodeDecodeError in /kaggle/input/spam-ham/enron2/spam/4047.2005-07-05.SA_and_HP.spam.txt. Skipping this file.\n",
      "UnicodeDecodeError in /kaggle/input/spam-ham/enron2/spam/5215.2005-07-19.SA_and_HP.spam.txt. Skipping this file.\n",
      "UnicodeDecodeError in /kaggle/input/spam-ham/enron2/spam/1235.2002-08-25.SA_and_HP.spam.txt. Skipping this file.\n",
      "UnicodeDecodeError in /kaggle/input/spam-ham/enron2/spam/5630.2005-07-21.SA_and_HP.spam.txt. Skipping this file.\n",
      "UnicodeDecodeError in /kaggle/input/spam-ham/enron2/spam/5318.2005-07-19.SA_and_HP.spam.txt. Skipping this file.\n",
      "UnicodeDecodeError in /kaggle/input/spam-ham/enron2/spam/3599.2005-07-02.SA_and_HP.spam.txt. Skipping this file.\n",
      "UnicodeDecodeError in /kaggle/input/spam-ham/enron2/spam/4588.2005-07-14.SA_and_HP.spam.txt. Skipping this file.\n",
      "UnicodeDecodeError in /kaggle/input/spam-ham/enron2/spam/4180.2005-07-06.SA_and_HP.spam.txt. Skipping this file.\n",
      "UnicodeDecodeError in /kaggle/input/spam-ham/enron2/spam/1645.2005-04-15.SA_and_HP.spam.txt. Skipping this file.\n",
      "UnicodeDecodeError in /kaggle/input/spam-ham/enron2/spam/1106.2002-08-02.SA_and_HP.spam.txt. Skipping this file.\n",
      "UnicodeDecodeError in /kaggle/input/spam-ham/enron2/spam/3461.2005-07-01.SA_and_HP.spam.txt. Skipping this file.\n",
      "UnicodeDecodeError in /kaggle/input/spam-ham/enron2/spam/4159.2005-07-06.SA_and_HP.spam.txt. Skipping this file.\n",
      "UnicodeDecodeError in /kaggle/input/spam-ham/enron2/spam/0525.2002-06-07.SA_and_HP.spam.txt. Skipping this file.\n",
      "UnicodeDecodeError in /kaggle/input/spam-ham/enron2/spam/1163.2002-08-07.SA_and_HP.spam.txt. Skipping this file.\n",
      "UnicodeDecodeError in /kaggle/input/spam-ham/enron2/spam/5795.2005-07-21.SA_and_HP.spam.txt. Skipping this file.\n",
      "UnicodeDecodeError in /kaggle/input/spam-ham/enron2/spam/1614.2004-07-21.SA_and_HP.spam.txt. Skipping this file.\n",
      "UnicodeDecodeError in /kaggle/input/spam-ham/enron2/spam/0291.2002-05-22.SA_and_HP.spam.txt. Skipping this file.\n",
      "UnicodeDecodeError in /kaggle/input/spam-ham/enron2/spam/5602.2005-07-20.SA_and_HP.spam.txt. Skipping this file.\n",
      "UnicodeDecodeError in /kaggle/input/spam-ham/enron2/spam/2228.2005-06-23.SA_and_HP.spam.txt. Skipping this file.\n",
      "UnicodeDecodeError in /kaggle/input/spam-ham/enron2/spam/0941.2002-07-25.SA_and_HP.spam.txt. Skipping this file.\n",
      "UnicodeDecodeError in /kaggle/input/spam-ham/enron2/spam/4603.2005-07-14.SA_and_HP.spam.txt. Skipping this file.\n",
      "UnicodeDecodeError in /kaggle/input/spam-ham/enron2/spam/0026.2001-07-13.SA_and_HP.spam.txt. Skipping this file.\n",
      "UnicodeDecodeError in /kaggle/input/spam-ham/enron2/spam/4846.2005-07-16.SA_and_HP.spam.txt. Skipping this file.\n",
      "UnicodeDecodeError in /kaggle/input/spam-ham/enron2/spam/1670.2005-04-25.SA_and_HP.spam.txt. Skipping this file.\n",
      "UnicodeDecodeError in /kaggle/input/spam-ham/enron2/spam/1610.2004-07-04.SA_and_HP.spam.txt. Skipping this file.\n",
      "UnicodeDecodeError in /kaggle/input/spam-ham/enron2/spam/4878.2005-07-17.SA_and_HP.spam.txt. Skipping this file.\n",
      "UnicodeDecodeError in /kaggle/input/spam-ham/enron2/spam/1506.2002-09-20.SA_and_HP.spam.txt. Skipping this file.\n",
      "UnicodeDecodeError in /kaggle/input/spam-ham/enron2/spam/3956.2005-07-04.SA_and_HP.spam.txt. Skipping this file.\n",
      "UnicodeDecodeError in /kaggle/input/spam-ham/enron2/spam/1544.2002-10-07.SA_and_HP.spam.txt. Skipping this file.\n",
      "UnicodeDecodeError in /kaggle/input/spam-ham/enron2/spam/0096.2002-02-20.SA_and_HP.spam.txt. Skipping this file.\n",
      "UnicodeDecodeError in /kaggle/input/spam-ham/enron2/spam/5437.2005-07-19.SA_and_HP.spam.txt. Skipping this file.\n",
      "UnicodeDecodeError in /kaggle/input/spam-ham/enron2/spam/1680.2005-05-24.SA_and_HP.spam.txt. Skipping this file.\n",
      "UnicodeDecodeError in /kaggle/input/spam-ham/enron2/spam/0613.2002-07-19.SA_and_HP.spam.txt. Skipping this file.\n",
      "UnicodeDecodeError in /kaggle/input/spam-ham/enron2/spam/1261.2002-08-27.SA_and_HP.spam.txt. Skipping this file.\n",
      "UnicodeDecodeError in /kaggle/input/spam-ham/enron2/spam/1937.2005-06-22.SA_and_HP.spam.txt. Skipping this file.\n",
      "UnicodeDecodeError in /kaggle/input/spam-ham/enron2/spam/1389.2002-09-11.SA_and_HP.spam.txt. Skipping this file.\n",
      "UnicodeDecodeError in /kaggle/input/spam-ham/enron2/spam/0357.2002-05-27.SA_and_HP.spam.txt. Skipping this file.\n",
      "UnicodeDecodeError in /kaggle/input/spam-ham/enron2/spam/2179.2005-06-23.SA_and_HP.spam.txt. Skipping this file.\n",
      "UnicodeDecodeError in /kaggle/input/spam-ham/enron2/spam/4994.2005-07-18.SA_and_HP.spam.txt. Skipping this file.\n",
      "UnicodeDecodeError in /kaggle/input/spam-ham/enron2/spam/5623.2005-07-20.SA_and_HP.spam.txt. Skipping this file.\n",
      "UnicodeDecodeError in /kaggle/input/spam-ham/enron2/spam/4196.2005-07-06.SA_and_HP.spam.txt. Skipping this file.\n",
      "UnicodeDecodeError in /kaggle/input/spam-ham/enron2/spam/3506.2005-07-01.SA_and_HP.spam.txt. Skipping this file.\n",
      "UnicodeDecodeError in /kaggle/input/spam-ham/enron2/spam/5098.2005-07-19.SA_and_HP.spam.txt. Skipping this file.\n",
      "UnicodeDecodeError in /kaggle/input/spam-ham/enron2/spam/2389.2005-06-24.SA_and_HP.spam.txt. Skipping this file.\n",
      "UnicodeDecodeError in /kaggle/input/spam-ham/enron2/spam/4307.2005-07-06.SA_and_HP.spam.txt. Skipping this file.\n",
      "UnicodeDecodeError in /kaggle/input/spam-ham/enron2/spam/5530.2005-07-20.SA_and_HP.spam.txt. Skipping this file.\n",
      "UnicodeDecodeError in /kaggle/input/spam-ham/enron2/spam/1221.2002-08-24.SA_and_HP.spam.txt. Skipping this file.\n",
      "UnicodeDecodeError in /kaggle/input/spam-ham/enron2/spam/2866.2005-06-28.SA_and_HP.spam.txt. Skipping this file.\n",
      "UnicodeDecodeError in /kaggle/input/spam-ham/enron2/spam/3510.2005-07-01.SA_and_HP.spam.txt. Skipping this file.\n",
      "UnicodeDecodeError in /kaggle/input/spam-ham/enron2/spam/5800.2005-07-21.SA_and_HP.spam.txt. Skipping this file.\n",
      "UnicodeDecodeError in /kaggle/input/spam-ham/enron2/spam/0125.2002-05-05.SA_and_HP.spam.txt. Skipping this file.\n",
      "UnicodeDecodeError in /kaggle/input/spam-ham/enron2/spam/2319.2005-06-24.SA_and_HP.spam.txt. Skipping this file.\n",
      "UnicodeDecodeError in /kaggle/input/spam-ham/enron2/spam/3023.2005-06-29.SA_and_HP.spam.txt. Skipping this file.\n",
      "UnicodeDecodeError in /kaggle/input/spam-ham/enron2/spam/4423.2005-07-12.SA_and_HP.spam.txt. Skipping this file.\n",
      "UnicodeDecodeError in /kaggle/input/spam-ham/enron2/spam/3129.2005-06-29.SA_and_HP.spam.txt. Skipping this file.\n",
      "UnicodeDecodeError in /kaggle/input/spam-ham/enron2/spam/1257.2002-08-27.SA_and_HP.spam.txt. Skipping this file.\n",
      "UnicodeDecodeError in /kaggle/input/spam-ham/enron2/spam/2251.2005-06-23.SA_and_HP.spam.txt. Skipping this file.\n",
      "UnicodeDecodeError in /kaggle/input/spam-ham/enron2/spam/1865.2005-06-22.SA_and_HP.spam.txt. Skipping this file.\n",
      "UnicodeDecodeError in /kaggle/input/spam-ham/enron2/spam/1682.2005-05-25.SA_and_HP.spam.txt. Skipping this file.\n",
      "UnicodeDecodeError in /kaggle/input/spam-ham/enron2/spam/1538.2002-09-26.SA_and_HP.spam.txt. Skipping this file.\n",
      "UnicodeDecodeError in /kaggle/input/spam-ham/enron2/spam/1721.2005-06-21.SA_and_HP.spam.txt. Skipping this file.\n",
      "UnicodeDecodeError in /kaggle/input/spam-ham/enron2/spam/2916.2005-06-28.SA_and_HP.spam.txt. Skipping this file.\n",
      "UnicodeDecodeError in /kaggle/input/spam-ham/enron2/spam/0576.2002-07-09.SA_and_HP.spam.txt. Skipping this file.\n",
      "UnicodeDecodeError in /kaggle/input/spam-ham/enron2/spam/0424.2002-06-02.SA_and_HP.spam.txt. Skipping this file.\n",
      "UnicodeDecodeError in /kaggle/input/spam-ham/enron2/spam/0159.2002-05-11.SA_and_HP.spam.txt. Skipping this file.\n",
      "UnicodeDecodeError in /kaggle/input/spam-ham/enron2/spam/0233.2002-05-18.SA_and_HP.spam.txt. Skipping this file.\n",
      "UnicodeDecodeError in /kaggle/input/spam-ham/enron2/spam/1132.2002-08-04.SA_and_HP.spam.txt. Skipping this file.\n",
      "UnicodeDecodeError in /kaggle/input/spam-ham/enron2/spam/1960.2005-06-22.SA_and_HP.spam.txt. Skipping this file.\n",
      "UnicodeDecodeError in /kaggle/input/spam-ham/enron2/spam/4467.2005-07-13.SA_and_HP.spam.txt. Skipping this file.\n",
      "UnicodeDecodeError in /kaggle/input/spam-ham/enron2/spam/0118.2002-04-24.SA_and_HP.spam.txt. Skipping this file.\n",
      "UnicodeDecodeError in /kaggle/input/spam-ham/enron2/spam/3749.2005-07-03.SA_and_HP.spam.txt. Skipping this file.\n",
      "UnicodeDecodeError in /kaggle/input/spam-ham/enron2/spam/4387.2005-07-12.SA_and_HP.spam.txt. Skipping this file.\n",
      "UnicodeDecodeError in /kaggle/input/spam-ham/enron2/spam/4854.2005-07-16.SA_and_HP.spam.txt. Skipping this file.\n",
      "UnicodeDecodeError in /kaggle/input/spam-ham/enron2/spam/0331.2002-05-26.SA_and_HP.spam.txt. Skipping this file.\n",
      "UnicodeDecodeError in /kaggle/input/spam-ham/enron2/spam/1200.2002-08-23.SA_and_HP.spam.txt. Skipping this file.\n",
      "UnicodeDecodeError in /kaggle/input/spam-ham/enron2/spam/1589.2002-12-03.SA_and_HP.spam.txt. Skipping this file.\n",
      "UnicodeDecodeError in /kaggle/input/spam-ham/enron2/spam/4150.2005-07-06.SA_and_HP.spam.txt. Skipping this file.\n",
      "UnicodeDecodeError in /kaggle/input/spam-ham/enron2/spam/2217.2005-06-23.SA_and_HP.spam.txt. Skipping this file.\n",
      "UnicodeDecodeError in /kaggle/input/spam-ham/enron2/spam/5016.2005-07-18.SA_and_HP.spam.txt. Skipping this file.\n",
      "UnicodeDecodeError in /kaggle/input/spam-ham/enron2/spam/4174.2005-07-06.SA_and_HP.spam.txt. Skipping this file.\n",
      "UnicodeDecodeError in /kaggle/input/spam-ham/enron2/spam/2746.2005-06-27.SA_and_HP.spam.txt. Skipping this file.\n",
      "UnicodeDecodeError in /kaggle/input/spam-ham/enron2/spam/4804.2005-07-16.SA_and_HP.spam.txt. Skipping this file.\n",
      "UnicodeDecodeError in /kaggle/input/spam-ham/enron2/spam/1414.2002-09-12.SA_and_HP.spam.txt. Skipping this file.\n",
      "UnicodeDecodeError in /kaggle/input/spam-ham/enron2/spam/5709.2005-07-21.SA_and_HP.spam.txt. Skipping this file.\n",
      "UnicodeDecodeError in /kaggle/input/spam-ham/enron2/spam/0071.2002-01-01.SA_and_HP.spam.txt. Skipping this file.\n",
      "UnicodeDecodeError in /kaggle/input/spam-ham/enron2/spam/4161.2005-07-06.SA_and_HP.spam.txt. Skipping this file.\n",
      "UnicodeDecodeError in /kaggle/input/spam-ham/enron2/spam/5013.2005-07-18.SA_and_HP.spam.txt. Skipping this file.\n",
      "UnicodeDecodeError in /kaggle/input/spam-ham/enron2/spam/4305.2005-07-06.SA_and_HP.spam.txt. Skipping this file.\n",
      "UnicodeDecodeError in /kaggle/input/spam-ham/enron2/spam/1267.2002-08-27.SA_and_HP.spam.txt. Skipping this file.\n",
      "UnicodeDecodeError in /kaggle/input/spam-ham/enron2/spam/3449.2005-07-01.SA_and_HP.spam.txt. Skipping this file.\n",
      "UnicodeDecodeError in /kaggle/input/spam-ham/enron2/spam/1586.2002-12-03.SA_and_HP.spam.txt. Skipping this file.\n",
      "UnicodeDecodeError in /kaggle/input/spam-ham/enron2/spam/1150.2002-08-06.SA_and_HP.spam.txt. Skipping this file.\n"
     ]
    }
   ],
   "source": [
    "for filename in os.listdir(spam_path):\n",
    "    if filename.endswith(\".txt\"):\n",
    "        file_path = os.path.join(spam_path, filename)\n",
    "        with open(file_path, \"r\", encoding=\"utf-8\") as file:\n",
    "            try:\n",
    "                content = file.read()\n",
    "                spam.append(content)\n",
    "            except UnicodeDecodeError:\n",
    "                print(f\"UnicodeDecodeError in {file_path}. Skipping this file.\")"
   ]
  },
  {
   "cell_type": "code",
   "execution_count": 10,
   "id": "231cee9c",
   "metadata": {
    "execution": {
     "iopub.execute_input": "2023-08-26T08:47:20.923457Z",
     "iopub.status.busy": "2023-08-26T08:47:20.922592Z",
     "iopub.status.idle": "2023-08-26T08:47:20.928176Z",
     "shell.execute_reply": "2023-08-26T08:47:20.926888Z"
    },
    "papermill": {
     "duration": 0.020575,
     "end_time": "2023-08-26T08:47:20.930602",
     "exception": false,
     "start_time": "2023-08-26T08:47:20.910027",
     "status": "completed"
    },
    "tags": []
   },
   "outputs": [],
   "source": [
    "df_spam = pd.DataFrame(spam, columns=[\"email\"])"
   ]
  },
  {
   "cell_type": "code",
   "execution_count": 11,
   "id": "859eee32",
   "metadata": {
    "execution": {
     "iopub.execute_input": "2023-08-26T08:47:20.953013Z",
     "iopub.status.busy": "2023-08-26T08:47:20.952635Z",
     "iopub.status.idle": "2023-08-26T08:47:20.976028Z",
     "shell.execute_reply": "2023-08-26T08:47:20.974491Z"
    },
    "papermill": {
     "duration": 0.037356,
     "end_time": "2023-08-26T08:47:20.978480",
     "exception": false,
     "start_time": "2023-08-26T08:47:20.941124",
     "status": "completed"
    },
    "tags": []
   },
   "outputs": [
    {
     "name": "stdout",
     "output_type": "stream",
     "text": [
      "<class 'pandas.core.frame.DataFrame'>\n",
      "RangeIndex: 1368 entries, 0 to 1367\n",
      "Data columns (total 1 columns):\n",
      " #   Column  Non-Null Count  Dtype \n",
      "---  ------  --------------  ----- \n",
      " 0   email   1368 non-null   object\n",
      "dtypes: object(1)\n",
      "memory usage: 10.8+ KB\n"
     ]
    }
   ],
   "source": [
    "df_spam.info()"
   ]
  },
  {
   "cell_type": "markdown",
   "id": "55b16068",
   "metadata": {
    "papermill": {
     "duration": 0.010042,
     "end_time": "2023-08-26T08:47:20.999049",
     "exception": false,
     "start_time": "2023-08-26T08:47:20.989007",
     "status": "completed"
    },
    "tags": []
   },
   "source": [
    "# **Data preprocessing**"
   ]
  },
  {
   "cell_type": "code",
   "execution_count": 12,
   "id": "5aa7a913",
   "metadata": {
    "execution": {
     "iopub.execute_input": "2023-08-26T08:47:21.020961Z",
     "iopub.status.busy": "2023-08-26T08:47:21.020584Z",
     "iopub.status.idle": "2023-08-26T08:47:21.026384Z",
     "shell.execute_reply": "2023-08-26T08:47:21.025133Z"
    },
    "papermill": {
     "duration": 0.019853,
     "end_time": "2023-08-26T08:47:21.028993",
     "exception": false,
     "start_time": "2023-08-26T08:47:21.009140",
     "status": "completed"
    },
    "tags": []
   },
   "outputs": [],
   "source": [
    "df_ham['type'] = 'ham'\n",
    "df_spam['type'] = 'spam'"
   ]
  },
  {
   "cell_type": "code",
   "execution_count": 13,
   "id": "f66a577c",
   "metadata": {
    "execution": {
     "iopub.execute_input": "2023-08-26T08:47:21.051929Z",
     "iopub.status.busy": "2023-08-26T08:47:21.051552Z",
     "iopub.status.idle": "2023-08-26T08:47:21.065400Z",
     "shell.execute_reply": "2023-08-26T08:47:21.063689Z"
    },
    "papermill": {
     "duration": 0.028532,
     "end_time": "2023-08-26T08:47:21.067899",
     "exception": false,
     "start_time": "2023-08-26T08:47:21.039367",
     "status": "completed"
    },
    "tags": []
   },
   "outputs": [
    {
     "name": "stdout",
     "output_type": "stream",
     "text": [
      "<class 'pandas.core.frame.DataFrame'>\n",
      "RangeIndex: 1368 entries, 0 to 1367\n",
      "Data columns (total 2 columns):\n",
      " #   Column  Non-Null Count  Dtype \n",
      "---  ------  --------------  ----- \n",
      " 0   email   1368 non-null   object\n",
      " 1   type    1368 non-null   object\n",
      "dtypes: object(2)\n",
      "memory usage: 21.5+ KB\n"
     ]
    }
   ],
   "source": [
    "df_spam.info()"
   ]
  },
  {
   "cell_type": "code",
   "execution_count": 14,
   "id": "9eca4e26",
   "metadata": {
    "execution": {
     "iopub.execute_input": "2023-08-26T08:47:21.090662Z",
     "iopub.status.busy": "2023-08-26T08:47:21.090283Z",
     "iopub.status.idle": "2023-08-26T08:47:21.099939Z",
     "shell.execute_reply": "2023-08-26T08:47:21.098616Z"
    },
    "papermill": {
     "duration": 0.02396,
     "end_time": "2023-08-26T08:47:21.102310",
     "exception": false,
     "start_time": "2023-08-26T08:47:21.078350",
     "status": "completed"
    },
    "tags": []
   },
   "outputs": [
    {
     "data": {
      "text/html": [
       "<div>\n",
       "<style scoped>\n",
       "    .dataframe tbody tr th:only-of-type {\n",
       "        vertical-align: middle;\n",
       "    }\n",
       "\n",
       "    .dataframe tbody tr th {\n",
       "        vertical-align: top;\n",
       "    }\n",
       "\n",
       "    .dataframe thead th {\n",
       "        text-align: right;\n",
       "    }\n",
       "</style>\n",
       "<table border=\"1\" class=\"dataframe\">\n",
       "  <thead>\n",
       "    <tr style=\"text-align: right;\">\n",
       "      <th></th>\n",
       "      <th>email</th>\n",
       "      <th>type</th>\n",
       "    </tr>\n",
       "  </thead>\n",
       "  <tbody>\n",
       "    <tr>\n",
       "      <th>0</th>\n",
       "      <td>Subject: returned mail : see transcript for de...</td>\n",
       "      <td>spam</td>\n",
       "    </tr>\n",
       "    <tr>\n",
       "      <th>1</th>\n",
       "      <td>Subject: in the heart of your business !\\ncorp...</td>\n",
       "      <td>spam</td>\n",
       "    </tr>\n",
       "    <tr>\n",
       "      <th>2</th>\n",
       "      <td>Subject: hey ! tell your friends to hit me up\\...</td>\n",
       "      <td>spam</td>\n",
       "    </tr>\n",
       "    <tr>\n",
       "      <th>3</th>\n",
       "      <td>Subject: hassle - free microsoft sql server re...</td>\n",
       "      <td>spam</td>\n",
       "    </tr>\n",
       "    <tr>\n",
       "      <th>4</th>\n",
       "      <td>Subject: get your babies diapers bill paid for...</td>\n",
       "      <td>spam</td>\n",
       "    </tr>\n",
       "  </tbody>\n",
       "</table>\n",
       "</div>"
      ],
      "text/plain": [
       "                                               email  type\n",
       "0  Subject: returned mail : see transcript for de...  spam\n",
       "1  Subject: in the heart of your business !\\ncorp...  spam\n",
       "2  Subject: hey ! tell your friends to hit me up\\...  spam\n",
       "3  Subject: hassle - free microsoft sql server re...  spam\n",
       "4  Subject: get your babies diapers bill paid for...  spam"
      ]
     },
     "execution_count": 14,
     "metadata": {},
     "output_type": "execute_result"
    }
   ],
   "source": [
    "df_spam.head()"
   ]
  },
  {
   "cell_type": "code",
   "execution_count": 15,
   "id": "a6941d5a",
   "metadata": {
    "execution": {
     "iopub.execute_input": "2023-08-26T08:47:21.125850Z",
     "iopub.status.busy": "2023-08-26T08:47:21.125472Z",
     "iopub.status.idle": "2023-08-26T08:47:21.131562Z",
     "shell.execute_reply": "2023-08-26T08:47:21.130097Z"
    },
    "papermill": {
     "duration": 0.020333,
     "end_time": "2023-08-26T08:47:21.133587",
     "exception": false,
     "start_time": "2023-08-26T08:47:21.113254",
     "status": "completed"
    },
    "tags": []
   },
   "outputs": [],
   "source": [
    "df = pd.concat([df_ham, df_spam], axis=0)"
   ]
  },
  {
   "cell_type": "code",
   "execution_count": 16,
   "id": "83324e62",
   "metadata": {
    "execution": {
     "iopub.execute_input": "2023-08-26T08:47:21.156796Z",
     "iopub.status.busy": "2023-08-26T08:47:21.156424Z",
     "iopub.status.idle": "2023-08-26T08:47:21.172407Z",
     "shell.execute_reply": "2023-08-26T08:47:21.170378Z"
    },
    "papermill": {
     "duration": 0.030408,
     "end_time": "2023-08-26T08:47:21.174778",
     "exception": false,
     "start_time": "2023-08-26T08:47:21.144370",
     "status": "completed"
    },
    "tags": []
   },
   "outputs": [
    {
     "name": "stdout",
     "output_type": "stream",
     "text": [
      "<class 'pandas.core.frame.DataFrame'>\n",
      "Int64Index: 5728 entries, 0 to 1367\n",
      "Data columns (total 2 columns):\n",
      " #   Column  Non-Null Count  Dtype \n",
      "---  ------  --------------  ----- \n",
      " 0   email   5728 non-null   object\n",
      " 1   type    5728 non-null   object\n",
      "dtypes: object(2)\n",
      "memory usage: 134.2+ KB\n"
     ]
    }
   ],
   "source": [
    "df.info()"
   ]
  },
  {
   "cell_type": "code",
   "execution_count": 17,
   "id": "21256c77",
   "metadata": {
    "execution": {
     "iopub.execute_input": "2023-08-26T08:47:21.198365Z",
     "iopub.status.busy": "2023-08-26T08:47:21.197962Z",
     "iopub.status.idle": "2023-08-26T08:47:21.209731Z",
     "shell.execute_reply": "2023-08-26T08:47:21.208094Z"
    },
    "papermill": {
     "duration": 0.026818,
     "end_time": "2023-08-26T08:47:21.212559",
     "exception": false,
     "start_time": "2023-08-26T08:47:21.185741",
     "status": "completed"
    },
    "tags": []
   },
   "outputs": [
    {
     "data": {
      "text/html": [
       "<div>\n",
       "<style scoped>\n",
       "    .dataframe tbody tr th:only-of-type {\n",
       "        vertical-align: middle;\n",
       "    }\n",
       "\n",
       "    .dataframe tbody tr th {\n",
       "        vertical-align: top;\n",
       "    }\n",
       "\n",
       "    .dataframe thead th {\n",
       "        text-align: right;\n",
       "    }\n",
       "</style>\n",
       "<table border=\"1\" class=\"dataframe\">\n",
       "  <thead>\n",
       "    <tr style=\"text-align: right;\">\n",
       "      <th></th>\n",
       "      <th>email</th>\n",
       "      <th>type</th>\n",
       "    </tr>\n",
       "  </thead>\n",
       "  <tbody>\n",
       "    <tr>\n",
       "      <th>0</th>\n",
       "      <td>Subject: var for cob 2 nd aug 2000\\nhi vince ,...</td>\n",
       "      <td>ham</td>\n",
       "    </tr>\n",
       "    <tr>\n",
       "      <th>1</th>\n",
       "      <td>Subject: my resume\\nmolly ,\\nwe would like to ...</td>\n",
       "      <td>ham</td>\n",
       "    </tr>\n",
       "    <tr>\n",
       "      <th>2</th>\n",
       "      <td>Subject: enron trial of energycast service\\nmi...</td>\n",
       "      <td>ham</td>\n",
       "    </tr>\n",
       "    <tr>\n",
       "      <th>3</th>\n",
       "      <td>Subject: iafe membership\\ndear colleague :\\nwe...</td>\n",
       "      <td>ham</td>\n",
       "    </tr>\n",
       "    <tr>\n",
       "      <th>4</th>\n",
       "      <td>Subject: intranet site\\ndear dale / all ,\\ntha...</td>\n",
       "      <td>ham</td>\n",
       "    </tr>\n",
       "  </tbody>\n",
       "</table>\n",
       "</div>"
      ],
      "text/plain": [
       "                                               email type\n",
       "0  Subject: var for cob 2 nd aug 2000\\nhi vince ,...  ham\n",
       "1  Subject: my resume\\nmolly ,\\nwe would like to ...  ham\n",
       "2  Subject: enron trial of energycast service\\nmi...  ham\n",
       "3  Subject: iafe membership\\ndear colleague :\\nwe...  ham\n",
       "4  Subject: intranet site\\ndear dale / all ,\\ntha...  ham"
      ]
     },
     "execution_count": 17,
     "metadata": {},
     "output_type": "execute_result"
    }
   ],
   "source": [
    "df.head()"
   ]
  },
  {
   "cell_type": "code",
   "execution_count": 18,
   "id": "641bc2f2",
   "metadata": {
    "execution": {
     "iopub.execute_input": "2023-08-26T08:47:21.237973Z",
     "iopub.status.busy": "2023-08-26T08:47:21.237608Z",
     "iopub.status.idle": "2023-08-26T08:47:21.907122Z",
     "shell.execute_reply": "2023-08-26T08:47:21.906015Z"
    },
    "papermill": {
     "duration": 0.685141,
     "end_time": "2023-08-26T08:47:21.909559",
     "exception": false,
     "start_time": "2023-08-26T08:47:21.224418",
     "status": "completed"
    },
    "tags": []
   },
   "outputs": [],
   "source": [
    "from sklearn.utils import shuffle\n",
    "df_shuffled = shuffle(df)"
   ]
  },
  {
   "cell_type": "code",
   "execution_count": 19,
   "id": "8db56d91",
   "metadata": {
    "execution": {
     "iopub.execute_input": "2023-08-26T08:47:21.934402Z",
     "iopub.status.busy": "2023-08-26T08:47:21.933640Z",
     "iopub.status.idle": "2023-08-26T08:47:21.943799Z",
     "shell.execute_reply": "2023-08-26T08:47:21.942594Z"
    },
    "papermill": {
     "duration": 0.024845,
     "end_time": "2023-08-26T08:47:21.945761",
     "exception": false,
     "start_time": "2023-08-26T08:47:21.920916",
     "status": "completed"
    },
    "tags": []
   },
   "outputs": [
    {
     "data": {
      "text/html": [
       "<div>\n",
       "<style scoped>\n",
       "    .dataframe tbody tr th:only-of-type {\n",
       "        vertical-align: middle;\n",
       "    }\n",
       "\n",
       "    .dataframe tbody tr th {\n",
       "        vertical-align: top;\n",
       "    }\n",
       "\n",
       "    .dataframe thead th {\n",
       "        text-align: right;\n",
       "    }\n",
       "</style>\n",
       "<table border=\"1\" class=\"dataframe\">\n",
       "  <thead>\n",
       "    <tr style=\"text-align: right;\">\n",
       "      <th></th>\n",
       "      <th>email</th>\n",
       "      <th>type</th>\n",
       "    </tr>\n",
       "  </thead>\n",
       "  <tbody>\n",
       "    <tr>\n",
       "      <th>1226</th>\n",
       "      <td>Subject: the next move higher for strong marke...</td>\n",
       "      <td>spam</td>\n",
       "    </tr>\n",
       "    <tr>\n",
       "      <th>1437</th>\n",
       "      <td>Subject: dear ms . feldman ,\\nplease find encl...</td>\n",
       "      <td>ham</td>\n",
       "    </tr>\n",
       "    <tr>\n",
       "      <th>10</th>\n",
       "      <td>Subject: re : telephone interview with enron c...</td>\n",
       "      <td>ham</td>\n",
       "    </tr>\n",
       "    <tr>\n",
       "      <th>4100</th>\n",
       "      <td>Subject: fyi : energy operations promotions\\nh...</td>\n",
       "      <td>ham</td>\n",
       "    </tr>\n",
       "    <tr>\n",
       "      <th>831</th>\n",
       "      <td>Subject: re : f / u to dr . kaminski @ enron f...</td>\n",
       "      <td>ham</td>\n",
       "    </tr>\n",
       "  </tbody>\n",
       "</table>\n",
       "</div>"
      ],
      "text/plain": [
       "                                                  email  type\n",
       "1226  Subject: the next move higher for strong marke...  spam\n",
       "1437  Subject: dear ms . feldman ,\\nplease find encl...   ham\n",
       "10    Subject: re : telephone interview with enron c...   ham\n",
       "4100  Subject: fyi : energy operations promotions\\nh...   ham\n",
       "831   Subject: re : f / u to dr . kaminski @ enron f...   ham"
      ]
     },
     "execution_count": 19,
     "metadata": {},
     "output_type": "execute_result"
    }
   ],
   "source": [
    "df_shuffled.head()"
   ]
  },
  {
   "cell_type": "code",
   "execution_count": 20,
   "id": "2d84abca",
   "metadata": {
    "execution": {
     "iopub.execute_input": "2023-08-26T08:47:21.969970Z",
     "iopub.status.busy": "2023-08-26T08:47:21.969513Z",
     "iopub.status.idle": "2023-08-26T08:47:21.976090Z",
     "shell.execute_reply": "2023-08-26T08:47:21.974653Z"
    },
    "papermill": {
     "duration": 0.021738,
     "end_time": "2023-08-26T08:47:21.978573",
     "exception": false,
     "start_time": "2023-08-26T08:47:21.956835",
     "status": "completed"
    },
    "tags": []
   },
   "outputs": [],
   "source": [
    "X = df_shuffled.drop(['type'],axis=1)\n",
    "y = df_shuffled['type']"
   ]
  },
  {
   "cell_type": "code",
   "execution_count": 21,
   "id": "d1b84a11",
   "metadata": {
    "execution": {
     "iopub.execute_input": "2023-08-26T08:47:22.002287Z",
     "iopub.status.busy": "2023-08-26T08:47:22.001944Z",
     "iopub.status.idle": "2023-08-26T08:47:22.009995Z",
     "shell.execute_reply": "2023-08-26T08:47:22.008591Z"
    },
    "papermill": {
     "duration": 0.022268,
     "end_time": "2023-08-26T08:47:22.012109",
     "exception": false,
     "start_time": "2023-08-26T08:47:21.989841",
     "status": "completed"
    },
    "tags": []
   },
   "outputs": [
    {
     "data": {
      "text/plain": [
       "1226    spam\n",
       "1437     ham\n",
       "10       ham\n",
       "4100     ham\n",
       "831      ham\n",
       "        ... \n",
       "2397     ham\n",
       "2994     ham\n",
       "2721     ham\n",
       "1005    spam\n",
       "178     spam\n",
       "Name: type, Length: 5728, dtype: object"
      ]
     },
     "execution_count": 21,
     "metadata": {},
     "output_type": "execute_result"
    }
   ],
   "source": [
    "y"
   ]
  },
  {
   "cell_type": "code",
   "execution_count": 22,
   "id": "9525b715",
   "metadata": {
    "execution": {
     "iopub.execute_input": "2023-08-26T08:47:22.036821Z",
     "iopub.status.busy": "2023-08-26T08:47:22.036426Z",
     "iopub.status.idle": "2023-08-26T08:47:22.393896Z",
     "shell.execute_reply": "2023-08-26T08:47:22.392239Z"
    },
    "papermill": {
     "duration": 0.373017,
     "end_time": "2023-08-26T08:47:22.396553",
     "exception": false,
     "start_time": "2023-08-26T08:47:22.023536",
     "status": "completed"
    },
    "tags": []
   },
   "outputs": [],
   "source": [
    "from sklearn.preprocessing import OrdinalEncoder\n",
    "encoder = OrdinalEncoder()\n",
    "y = encoder.fit_transform([y])"
   ]
  },
  {
   "cell_type": "code",
   "execution_count": 23,
   "id": "beb7261a",
   "metadata": {
    "execution": {
     "iopub.execute_input": "2023-08-26T08:47:22.419715Z",
     "iopub.status.busy": "2023-08-26T08:47:22.419349Z",
     "iopub.status.idle": "2023-08-26T08:47:22.424595Z",
     "shell.execute_reply": "2023-08-26T08:47:22.423707Z"
    },
    "papermill": {
     "duration": 0.018855,
     "end_time": "2023-08-26T08:47:22.426365",
     "exception": false,
     "start_time": "2023-08-26T08:47:22.407510",
     "status": "completed"
    },
    "tags": []
   },
   "outputs": [],
   "source": [
    "emails=X.copy()"
   ]
  },
  {
   "cell_type": "code",
   "execution_count": 24,
   "id": "f7715bd5",
   "metadata": {
    "execution": {
     "iopub.execute_input": "2023-08-26T08:47:22.449634Z",
     "iopub.status.busy": "2023-08-26T08:47:22.448976Z",
     "iopub.status.idle": "2023-08-26T08:47:22.455018Z",
     "shell.execute_reply": "2023-08-26T08:47:22.454141Z"
    },
    "papermill": {
     "duration": 0.020253,
     "end_time": "2023-08-26T08:47:22.457392",
     "exception": false,
     "start_time": "2023-08-26T08:47:22.437139",
     "status": "completed"
    },
    "tags": []
   },
   "outputs": [],
   "source": [
    "emails.reset_index(inplace=True)"
   ]
  },
  {
   "cell_type": "markdown",
   "id": "c945a181",
   "metadata": {
    "papermill": {
     "duration": 0.010254,
     "end_time": "2023-08-26T08:47:22.478689",
     "exception": false,
     "start_time": "2023-08-26T08:47:22.468435",
     "status": "completed"
    },
    "tags": []
   },
   "source": [
    "# **Text preprocessing**"
   ]
  },
  {
   "cell_type": "code",
   "execution_count": 25,
   "id": "25cb5b02",
   "metadata": {
    "execution": {
     "iopub.execute_input": "2023-08-26T08:47:22.501702Z",
     "iopub.status.busy": "2023-08-26T08:47:22.501332Z",
     "iopub.status.idle": "2023-08-26T08:47:23.438477Z",
     "shell.execute_reply": "2023-08-26T08:47:23.437664Z"
    },
    "papermill": {
     "duration": 0.951597,
     "end_time": "2023-08-26T08:47:23.440888",
     "exception": false,
     "start_time": "2023-08-26T08:47:22.489291",
     "status": "completed"
    },
    "tags": []
   },
   "outputs": [],
   "source": [
    "import nltk\n",
    "import re\n",
    "from nltk.corpus import stopwords"
   ]
  },
  {
   "cell_type": "code",
   "execution_count": 26,
   "id": "e3f45d75",
   "metadata": {
    "execution": {
     "iopub.execute_input": "2023-08-26T08:47:23.466302Z",
     "iopub.status.busy": "2023-08-26T08:47:23.465662Z",
     "iopub.status.idle": "2023-08-26T08:47:23.586376Z",
     "shell.execute_reply": "2023-08-26T08:47:23.584848Z"
    },
    "papermill": {
     "duration": 0.13739,
     "end_time": "2023-08-26T08:47:23.589539",
     "exception": false,
     "start_time": "2023-08-26T08:47:23.452149",
     "status": "completed"
    },
    "tags": []
   },
   "outputs": [
    {
     "name": "stdout",
     "output_type": "stream",
     "text": [
      "[nltk_data] Downloading package stopwords to /usr/share/nltk_data...\n",
      "[nltk_data]   Package stopwords is already up-to-date!\n"
     ]
    },
    {
     "data": {
      "text/plain": [
       "True"
      ]
     },
     "execution_count": 26,
     "metadata": {},
     "output_type": "execute_result"
    }
   ],
   "source": [
    "nltk.download('stopwords')"
   ]
  },
  {
   "cell_type": "code",
   "execution_count": 27,
   "id": "e2ed8d1b",
   "metadata": {
    "execution": {
     "iopub.execute_input": "2023-08-26T08:47:23.614624Z",
     "iopub.status.busy": "2023-08-26T08:47:23.614243Z",
     "iopub.status.idle": "2023-08-26T08:49:54.976624Z",
     "shell.execute_reply": "2023-08-26T08:49:54.975364Z"
    },
    "papermill": {
     "duration": 151.377942,
     "end_time": "2023-08-26T08:49:54.979375",
     "exception": false,
     "start_time": "2023-08-26T08:47:23.601433",
     "status": "completed"
    },
    "tags": []
   },
   "outputs": [],
   "source": [
    "from nltk.stem.porter import PorterStemmer\n",
    "ps = PorterStemmer()\n",
    "corpus = []\n",
    "for i in range(0, len(emails)):\n",
    "    email = re.sub('[^a-zA-Z]', ' ', emails['email'][i])\n",
    "    email = email.lower()\n",
    "    email = email.split()\n",
    "    \n",
    "    email = [ps.stem(word) for word in email if not word in stopwords.words('english')]\n",
    "    email = ' '.join(email)\n",
    "    corpus.append(email)"
   ]
  },
  {
   "cell_type": "code",
   "execution_count": 28,
   "id": "15ac93fb",
   "metadata": {
    "execution": {
     "iopub.execute_input": "2023-08-26T08:49:55.004153Z",
     "iopub.status.busy": "2023-08-26T08:49:55.003728Z",
     "iopub.status.idle": "2023-08-26T08:49:55.327110Z",
     "shell.execute_reply": "2023-08-26T08:49:55.325769Z"
    },
    "papermill": {
     "duration": 0.338791,
     "end_time": "2023-08-26T08:49:55.329576",
     "exception": false,
     "start_time": "2023-08-26T08:49:54.990785",
     "status": "completed"
    },
    "tags": []
   },
   "outputs": [],
   "source": [
    "voc_size=5000\n",
    "from tensorflow.keras.preprocessing.text import one_hot\n",
    "onehot_repr=[one_hot(words,voc_size)for words in corpus] "
   ]
  },
  {
   "cell_type": "code",
   "execution_count": 29,
   "id": "184d7942",
   "metadata": {
    "execution": {
     "iopub.execute_input": "2023-08-26T08:49:55.353459Z",
     "iopub.status.busy": "2023-08-26T08:49:55.353113Z",
     "iopub.status.idle": "2023-08-26T08:49:55.376794Z",
     "shell.execute_reply": "2023-08-26T08:49:55.375567Z"
    },
    "papermill": {
     "duration": 0.038451,
     "end_time": "2023-08-26T08:49:55.379668",
     "exception": false,
     "start_time": "2023-08-26T08:49:55.341217",
     "status": "completed"
    },
    "tags": []
   },
   "outputs": [],
   "source": [
    "from tensorflow.keras.preprocessing.sequence import pad_sequences\n",
    "sent_length=20\n",
    "embedded_docs=pad_sequences(onehot_repr,padding='pre',maxlen=sent_length)"
   ]
  },
  {
   "cell_type": "code",
   "execution_count": 30,
   "id": "276de4a2",
   "metadata": {
    "execution": {
     "iopub.execute_input": "2023-08-26T08:49:55.403817Z",
     "iopub.status.busy": "2023-08-26T08:49:55.403431Z",
     "iopub.status.idle": "2023-08-26T08:49:55.408046Z",
     "shell.execute_reply": "2023-08-26T08:49:55.407061Z"
    },
    "papermill": {
     "duration": 0.018763,
     "end_time": "2023-08-26T08:49:55.409918",
     "exception": false,
     "start_time": "2023-08-26T08:49:55.391155",
     "status": "completed"
    },
    "tags": []
   },
   "outputs": [],
   "source": [
    "embedding_vector_features=40"
   ]
  },
  {
   "cell_type": "markdown",
   "id": "07f6a43d",
   "metadata": {
    "papermill": {
     "duration": 0.011838,
     "end_time": "2023-08-26T08:49:55.432736",
     "exception": false,
     "start_time": "2023-08-26T08:49:55.420898",
     "status": "completed"
    },
    "tags": []
   },
   "source": [
    "# **Model**"
   ]
  },
  {
   "cell_type": "code",
   "execution_count": 31,
   "id": "a935d7bc",
   "metadata": {
    "execution": {
     "iopub.execute_input": "2023-08-26T08:49:55.456716Z",
     "iopub.status.busy": "2023-08-26T08:49:55.456313Z",
     "iopub.status.idle": "2023-08-26T08:49:56.167956Z",
     "shell.execute_reply": "2023-08-26T08:49:56.166888Z"
    },
    "papermill": {
     "duration": 0.725991,
     "end_time": "2023-08-26T08:49:56.170185",
     "exception": false,
     "start_time": "2023-08-26T08:49:55.444194",
     "status": "completed"
    },
    "tags": []
   },
   "outputs": [],
   "source": [
    "tf.random.set_seed(42)\n",
    "model = tf.keras.Sequential([\n",
    "    tf.keras.layers.Embedding(voc_size,embedding_vector_features,input_length=sent_length),\n",
    "    tf.keras.layers.Bidirectional(tf.keras.layers.LSTM(128)),\n",
    "    tf.keras.layers.Dropout(0.3),\n",
    "    tf.keras.layers.Dense(1, activation=\"sigmoid\"),\n",
    "])\n",
    "model.compile(loss=\"binary_crossentropy\", optimizer=\"nadam\",\n",
    "              metrics=[\"accuracy\"])"
   ]
  },
  {
   "cell_type": "code",
   "execution_count": 32,
   "id": "34d07fe3",
   "metadata": {
    "execution": {
     "iopub.execute_input": "2023-08-26T08:49:56.194254Z",
     "iopub.status.busy": "2023-08-26T08:49:56.193018Z",
     "iopub.status.idle": "2023-08-26T08:49:56.220671Z",
     "shell.execute_reply": "2023-08-26T08:49:56.219620Z"
    },
    "papermill": {
     "duration": 0.041306,
     "end_time": "2023-08-26T08:49:56.222567",
     "exception": false,
     "start_time": "2023-08-26T08:49:56.181261",
     "status": "completed"
    },
    "tags": []
   },
   "outputs": [
    {
     "name": "stdout",
     "output_type": "stream",
     "text": [
      "Model: \"sequential\"\n",
      "_________________________________________________________________\n",
      " Layer (type)                Output Shape              Param #   \n",
      "=================================================================\n",
      " embedding (Embedding)       (None, 20, 40)            200000    \n",
      "                                                                 \n",
      " bidirectional (Bidirectiona  (None, 256)              173056    \n",
      " l)                                                              \n",
      "                                                                 \n",
      " dropout (Dropout)           (None, 256)               0         \n",
      "                                                                 \n",
      " dense (Dense)               (None, 1)                 257       \n",
      "                                                                 \n",
      "=================================================================\n",
      "Total params: 373,313\n",
      "Trainable params: 373,313\n",
      "Non-trainable params: 0\n",
      "_________________________________________________________________\n"
     ]
    }
   ],
   "source": [
    "model.summary()"
   ]
  },
  {
   "cell_type": "code",
   "execution_count": 33,
   "id": "d17f43c2",
   "metadata": {
    "execution": {
     "iopub.execute_input": "2023-08-26T08:49:56.248037Z",
     "iopub.status.busy": "2023-08-26T08:49:56.247689Z",
     "iopub.status.idle": "2023-08-26T08:49:56.252345Z",
     "shell.execute_reply": "2023-08-26T08:49:56.251436Z"
    },
    "papermill": {
     "duration": 0.020619,
     "end_time": "2023-08-26T08:49:56.255072",
     "exception": false,
     "start_time": "2023-08-26T08:49:56.234453",
     "status": "completed"
    },
    "tags": []
   },
   "outputs": [],
   "source": [
    "X_final=np.array(embedded_docs)"
   ]
  },
  {
   "cell_type": "code",
   "execution_count": 34,
   "id": "be90d4a4",
   "metadata": {
    "execution": {
     "iopub.execute_input": "2023-08-26T08:49:56.283914Z",
     "iopub.status.busy": "2023-08-26T08:49:56.283543Z",
     "iopub.status.idle": "2023-08-26T08:49:56.290856Z",
     "shell.execute_reply": "2023-08-26T08:49:56.289733Z"
    },
    "papermill": {
     "duration": 0.024913,
     "end_time": "2023-08-26T08:49:56.292935",
     "exception": false,
     "start_time": "2023-08-26T08:49:56.268022",
     "status": "completed"
    },
    "tags": []
   },
   "outputs": [
    {
     "data": {
      "text/plain": [
       "array([[ 527, 3049, 3184, ..., 3598, 3466, 2068],\n",
       "       [4034, 1542, 4714, ..., 2410, 3159, 2846],\n",
       "       [3813, 4213, 3012, ..., 2979, 2922,  433],\n",
       "       ...,\n",
       "       [2828, 3932,  530, ...,  852, 1451, 2050],\n",
       "       [4089, 4637, 2604, ..., 1651, 2944, 4347],\n",
       "       [4387, 1954, 3569, ..., 3819, 2881, 1439]], dtype=int32)"
      ]
     },
     "execution_count": 34,
     "metadata": {},
     "output_type": "execute_result"
    }
   ],
   "source": [
    "X_final"
   ]
  },
  {
   "cell_type": "code",
   "execution_count": 35,
   "id": "90da9e18",
   "metadata": {
    "execution": {
     "iopub.execute_input": "2023-08-26T08:49:56.319733Z",
     "iopub.status.busy": "2023-08-26T08:49:56.319379Z",
     "iopub.status.idle": "2023-08-26T08:49:56.326285Z",
     "shell.execute_reply": "2023-08-26T08:49:56.325162Z"
    },
    "papermill": {
     "duration": 0.02306,
     "end_time": "2023-08-26T08:49:56.328652",
     "exception": false,
     "start_time": "2023-08-26T08:49:56.305592",
     "status": "completed"
    },
    "tags": []
   },
   "outputs": [],
   "source": [
    "from sklearn.model_selection import train_test_split\n",
    "\n",
    "X_train_full, X_test, y_train_full, y_test = train_test_split(X_final, y.reshape(-1), test_size=0.2, random_state=42)\n",
    "X_train, X_valid, y_train, y_valid = train_test_split(X_train_full, y_train_full, test_size=0.25, random_state=42)"
   ]
  },
  {
   "cell_type": "markdown",
   "id": "a33e9f01",
   "metadata": {
    "papermill": {
     "duration": 0.011791,
     "end_time": "2023-08-26T08:49:56.353430",
     "exception": false,
     "start_time": "2023-08-26T08:49:56.341639",
     "status": "completed"
    },
    "tags": []
   },
   "source": [
    "# **Model training**"
   ]
  },
  {
   "cell_type": "code",
   "execution_count": 36,
   "id": "acfa1641",
   "metadata": {
    "execution": {
     "iopub.execute_input": "2023-08-26T08:49:56.380139Z",
     "iopub.status.busy": "2023-08-26T08:49:56.379018Z",
     "iopub.status.idle": "2023-08-26T08:50:20.720256Z",
     "shell.execute_reply": "2023-08-26T08:50:20.718895Z"
    },
    "papermill": {
     "duration": 24.356989,
     "end_time": "2023-08-26T08:50:20.722660",
     "exception": false,
     "start_time": "2023-08-26T08:49:56.365671",
     "status": "completed"
    },
    "tags": []
   },
   "outputs": [
    {
     "name": "stdout",
     "output_type": "stream",
     "text": [
      "Epoch 1/5\n",
      "108/108 [==============================] - 8s 39ms/step - loss: 0.0557 - accuracy: 0.9933 - val_loss: 1.0970e-07 - val_accuracy: 1.0000\n",
      "Epoch 2/5\n",
      "108/108 [==============================] - 4s 34ms/step - loss: 1.5477e-07 - accuracy: 1.0000 - val_loss: 1.0796e-07 - val_accuracy: 1.0000\n",
      "Epoch 3/5\n",
      "108/108 [==============================] - 4s 34ms/step - loss: 1.4952e-07 - accuracy: 1.0000 - val_loss: 1.0584e-07 - val_accuracy: 1.0000\n",
      "Epoch 4/5\n",
      "108/108 [==============================] - 4s 33ms/step - loss: 1.4181e-07 - accuracy: 1.0000 - val_loss: 1.0346e-07 - val_accuracy: 1.0000\n",
      "Epoch 5/5\n",
      "108/108 [==============================] - 4s 33ms/step - loss: 1.4477e-07 - accuracy: 1.0000 - val_loss: 1.0075e-07 - val_accuracy: 1.0000\n"
     ]
    }
   ],
   "source": [
    "history = model.fit(X_train,y_train,validation_data=(X_valid,y_valid),epochs=5)"
   ]
  },
  {
   "cell_type": "code",
   "execution_count": 37,
   "id": "8e3f435f",
   "metadata": {
    "execution": {
     "iopub.execute_input": "2023-08-26T08:50:20.782228Z",
     "iopub.status.busy": "2023-08-26T08:50:20.781859Z",
     "iopub.status.idle": "2023-08-26T08:50:21.228417Z",
     "shell.execute_reply": "2023-08-26T08:50:21.227574Z"
    },
    "papermill": {
     "duration": 0.478207,
     "end_time": "2023-08-26T08:50:21.230256",
     "exception": false,
     "start_time": "2023-08-26T08:50:20.752049",
     "status": "completed"
    },
    "tags": []
   },
   "outputs": [
    {
     "name": "stdout",
     "output_type": "stream",
     "text": [
      "36/36 [==============================] - 0s 11ms/step - loss: 1.0078e-07 - accuracy: 1.0000\n"
     ]
    }
   ],
   "source": [
    "score = model.evaluate(X_test , y_test)"
   ]
  },
  {
   "cell_type": "markdown",
   "id": "60ad6e8d",
   "metadata": {
    "papermill": {
     "duration": 0.028507,
     "end_time": "2023-08-26T08:50:21.287112",
     "exception": false,
     "start_time": "2023-08-26T08:50:21.258605",
     "status": "completed"
    },
    "tags": []
   },
   "source": [
    "# **Error analysis**"
   ]
  },
  {
   "cell_type": "code",
   "execution_count": 38,
   "id": "cf0f798e",
   "metadata": {
    "execution": {
     "iopub.execute_input": "2023-08-26T08:50:21.345928Z",
     "iopub.status.busy": "2023-08-26T08:50:21.345543Z",
     "iopub.status.idle": "2023-08-26T08:50:21.351048Z",
     "shell.execute_reply": "2023-08-26T08:50:21.349986Z"
    },
    "papermill": {
     "duration": 0.037678,
     "end_time": "2023-08-26T08:50:21.353337",
     "exception": false,
     "start_time": "2023-08-26T08:50:21.315659",
     "status": "completed"
    },
    "tags": []
   },
   "outputs": [
    {
     "name": "stdout",
     "output_type": "stream",
     "text": [
      "Test Accuracy : 100.0000 %\n"
     ]
    }
   ],
   "source": [
    "print('Test Accuracy : {:.4f} %'.format(score[1]*100))"
   ]
  },
  {
   "cell_type": "code",
   "execution_count": 39,
   "id": "64f6a2c5",
   "metadata": {
    "execution": {
     "iopub.execute_input": "2023-08-26T08:50:21.412951Z",
     "iopub.status.busy": "2023-08-26T08:50:21.412533Z",
     "iopub.status.idle": "2023-08-26T08:50:22.061928Z",
     "shell.execute_reply": "2023-08-26T08:50:22.061076Z"
    },
    "papermill": {
     "duration": 0.682047,
     "end_time": "2023-08-26T08:50:22.064222",
     "exception": false,
     "start_time": "2023-08-26T08:50:21.382175",
     "status": "completed"
    },
    "tags": []
   },
   "outputs": [
    {
     "data": {
      "image/png": "[encoded data removed]",
      "text/plain": [
       "<Figure size 2000x700 with 2 Axes>"
      ]
     },
     "metadata": {},
     "output_type": "display_data"
    }
   ],
   "source": [
    "import matplotlib.pyplot as plt\n",
    "\n",
    "def plot_learning_curves(history, model_name, ax):\n",
    "    ax.plot(history.history['loss'], label='Training Loss')\n",
    "    ax.plot(history.history['val_loss'], label='Validation Loss')\n",
    "    ax.set_title(f'{model_name} Learning Curve')\n",
    "    ax.set_xlabel('Epoch')\n",
    "    ax.set_ylabel('Loss')\n",
    "    ax.legend()\n",
    "\n",
    "def plot_accuracy_curves(history, model_name, ax):\n",
    "    ax.plot(history.history['accuracy'], label='Training Accuracy')\n",
    "    ax.plot(history.history['val_accuracy'], label='Validation Accuracy')\n",
    "    ax.set_title(f'{model_name} Accuracy Curve')\n",
    "    ax.set_xlabel('Epoch')\n",
    "    ax.set_ylabel('Accuracy')\n",
    "    ax.legend()\n",
    "\n",
    "fig, axs = plt.subplots(1, 2, figsize=(20, 7))  \n",
    "plot_learning_curves(history, model, axs[0])\n",
    "plot_accuracy_curves(history, model, axs[1])\n",
    "\n",
    "plt.tight_layout()\n",
    "plt.show()\n"
   ]
  }
 ],
 "metadata": {
  "kernelspec": {
   "display_name": "Python 3",
   "language": "python",
   "name": "python3"
  },
  "language_info": {
   "codemirror_mode": {
    "name": "ipython",
    "version": 3
   },
   "file_extension": ".py",
   "mimetype": "text/x-python",
   "name": "python",
   "nbconvert_exporter": "python",
   "pygments_lexer": "ipython3",
   "version": "3.10.12"
  },
  "papermill": {
   "default_parameters": {},
   "duration": 226.524844,
   "end_time": "2023-08-26T08:50:25.018555",
   "environment_variables": {},
   "exception": null,
   "input_path": "__notebook__.ipynb",
   "output_path": "__notebook__.ipynb",
   "parameters": {},
   "start_time": "2023-08-26T08:46:38.493711",
   "version": "2.4.0"
  }
 },
 "nbformat": 4,
 "nbformat_minor": 5
}
